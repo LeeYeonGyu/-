{
 "cells": [
  {
   "cell_type": "markdown",
   "metadata": {},
   "source": [
    "#자료형"
   ]
  },
  {
   "cell_type": "code",
   "execution_count": null,
   "metadata": {},
   "outputs": [],
   "source": [
    "#자료형은 파이썬 데이터를 다룰 때 데이터의 종류를 의미함\n",
    "#데이터의 효율적 처리를 위해, 데이터 특징에 따라 분류를 해둔 것\n",
    "#도서관에서 책 카테고리 별 정리하는 것 처럼, 책 모양은 비슷하지만, 책 안에 있는 내용을 기준으로(인문학책, 컴퓨터책, 등)\n",
    "\n",
    "#변수를 만들 때, 파이썬 내부에서 자동으로 자료형을 판단하여 적용함\n",
    "\n",
    "#자료형 확인은 type() 함수로 알 수 있음\n",
    "\n",
    "#필요에 따라 자료형을 변경 가능"
   ]
  },
  {
   "cell_type": "code",
   "execution_count": 1,
   "metadata": {},
   "outputs": [
    {
     "name": "stdout",
     "output_type": "stream",
     "text": [
      "15\n",
      "5\n",
      "50\n",
      "2.0\n",
      "2\n",
      "0\n",
      "100000\n"
     ]
    }
   ],
   "source": [
    "#숫자형\n",
    "\n",
    "#종류 : 1) 정수형 int  2) 실수형 float  3) 복소수 complex  등\n",
    "#특징 : 연산이 가능, 숫자를 다루는 내장함수들 사용 가능\n",
    "\n",
    "a = 10  #정수형 int\n",
    "b = 5  #정수형 int\n",
    "c = 2.0  #실수형 float\n",
    "d = 0.5  #실수형 float\n",
    "\n",
    "print(a+b)  #a 더하기 b\n",
    "print(a-b)  #a 빼기 b\n",
    "print(a*b)  #a 곱하기 b\n",
    "print(a/b)  #a 나누기 b  -> 실수(float)형태\n",
    "print(a//b)  #a를 b로 나눈 몫\n",
    "print(a%b)  #a를 b로 나눈 나머지\n",
    "print(a**b)  #a의 b제곱\n"
   ]
  },
  {
   "cell_type": "code",
   "execution_count": 4,
   "metadata": {},
   "outputs": [
    {
     "name": "stdout",
     "output_type": "stream",
     "text": [
      "7.0\n",
      "3.0\n",
      "10.0\n",
      "2.5\n",
      "2.0\n",
      "1.0\n",
      "25.0\n"
     ]
    }
   ],
   "source": [
    "a = 10  #정수형 int\n",
    "b = 5  #정수형 int\n",
    "c = 2.0  #실수형 float\n",
    "d = 0.5  #실수형 float\n",
    "\n",
    "print(b+c)  #b 더하기 c\n",
    "print(b-c)  #b 빼기 c\n",
    "print(b*c)  #b 곱하기 c\n",
    "print(b/c)  #b 나누기 c \n",
    "print(b//c)  #b를 c로 나눈 몫\n",
    "print(b%c)  #b를 c로 나눈 나머지\n",
    "print(b**c)  #b의 c제곱\n",
    "\n",
    "#연산의 결과가 실수형(float)으로 출력이 되었음"
   ]
  },
  {
   "cell_type": "code",
   "execution_count": 5,
   "metadata": {},
   "outputs": [
    {
     "name": "stdout",
     "output_type": "stream",
     "text": [
      "2.5\n",
      "1.5\n",
      "1.0\n",
      "4.0\n",
      "4.0\n",
      "0.0\n",
      "1.4142135623730951\n"
     ]
    }
   ],
   "source": [
    "a = 10  #정수형 int\n",
    "b = 5  #정수형 int\n",
    "c = 2.0  #실수형 float\n",
    "d = 0.5  #실수형 float\n",
    "\n",
    "print(c+d)  #c 더하기 d\n",
    "print(c-d)  #c 빼기 d\n",
    "print(c*d)  #c 곱하기 d\n",
    "print(c/d)  #c 나누기 d\n",
    "print(c//d)  #c를 d로 나눈 몫\n",
    "print(c%d)  #c를 d로 나눈 나머지\n",
    "print(c**d)  #c의 d제곱\n",
    "\n",
    "#연산의 결과가 실수형(float)으로 출력이 되었음"
   ]
  },
  {
   "cell_type": "code",
   "execution_count": 6,
   "metadata": {},
   "outputs": [
    {
     "name": "stdout",
     "output_type": "stream",
     "text": [
      "True\n",
      "False\n",
      "\n",
      "True\n",
      "False\n",
      "\n",
      "True\n",
      "False\n",
      "True\n",
      "\n",
      "True\n",
      "False\n",
      "\n",
      "True\n",
      "False\n"
     ]
    }
   ],
   "source": [
    "#논리형\n",
    "\n",
    "#종류 : 1) bool -> True, False\n",
    "#특징 : 참과 거짓을 나타내는 자료형, 비교&논리 연산자로 만들어짐, 조건문에 활용\n",
    "#비교연산자 : <, <=, >, >=, ==(같다), !=(같지 않다)\n",
    "#논리연산자 : X or Y(x나 y 둘 중 하나만 참이면 참), X and Y(x,y 모두 참이어야 참), not X(X가 참이면 거짓, X가 거짓이면 참)\n",
    "\n",
    "x = 10\n",
    "y = -10\n",
    "\n",
    "print(x>0)\n",
    "print(y>0)\n",
    "print()\n",
    "print(x>y)\n",
    "print(x<y)\n",
    "print()\n",
    "print(x==10)\n",
    "print(x==y)\n",
    "print(x!=y)\n",
    "print()\n",
    "print(x>0 or y>0)\n",
    "print(x>0 and y>0)\n",
    "print()\n",
    "print(x>0)\n",
    "print(not x>0)"
   ]
  },
  {
   "cell_type": "code",
   "execution_count": 7,
   "metadata": {},
   "outputs": [
    {
     "name": "stdout",
     "output_type": "stream",
     "text": [
      "10\n",
      "\n",
      "55\n",
      "55555\n",
      "\n",
      "안녕하세요\n",
      "안녕하세요\n"
     ]
    }
   ],
   "source": [
    "#문자열형\n",
    "\n",
    "#종류 : 1) str / 문자와 문자열을 따로 구분하지 않음\n",
    "#특징 : ' ' 또는 \" \" 에 감싸져 있음, 연산이 불가능(예외 : 문자 + 문자, 문자 x 정수)\n",
    "\n",
    "a = 5  #정수형 int\n",
    "b = '5'  #문자열형 str\n",
    "c = 5.0  #실수형 float\n",
    "\n",
    "print(a+a)  #int + int\n",
    "print()\n",
    "print(b+b)  #str + str -> 숫자가 더해지는것이 아닌, 문자가 이어붙여짐\n",
    "print(a*b)  #int x str -> 숫자 5가 5번\n",
    "print()\n",
    "'''\n",
    "print(a+b)\n",
    "print(b*c)\n",
    "'''\n",
    "\n",
    "print('안녕하세요')\n",
    "print(\"안녕하세요\")"
   ]
  },
  {
   "cell_type": "code",
   "execution_count": 9,
   "metadata": {},
   "outputs": [
    {
     "ename": "TypeError",
     "evalue": "unsupported operand type(s) for +: 'int' and 'str'",
     "output_type": "error",
     "traceback": [
      "\u001b[1;31m---------------------------------------------------------------------------\u001b[0m",
      "\u001b[1;31mTypeError\u001b[0m                                 Traceback (most recent call last)",
      "Cell \u001b[1;32mIn[9], line 16\u001b[0m\n\u001b[0;32m      7\u001b[0m c \u001b[38;5;241m=\u001b[39m \u001b[38;5;241m5.0\u001b[39m  \u001b[38;5;66;03m#실수형 float\u001b[39;00m\n\u001b[0;32m      8\u001b[0m \u001b[38;5;124;03m'''\u001b[39;00m\n\u001b[0;32m      9\u001b[0m \u001b[38;5;124;03mprint(a+a)  #int + int\u001b[39;00m\n\u001b[0;32m     10\u001b[0m \u001b[38;5;124;03mprint()\u001b[39;00m\n\u001b[1;32m   (...)\u001b[0m\n\u001b[0;32m     13\u001b[0m \u001b[38;5;124;03mprint()\u001b[39;00m\n\u001b[0;32m     14\u001b[0m \u001b[38;5;124;03m'''\u001b[39;00m\n\u001b[1;32m---> 16\u001b[0m \u001b[38;5;28mprint\u001b[39m(\u001b[43ma\u001b[49m\u001b[38;5;241;43m+\u001b[39;49m\u001b[43mb\u001b[49m)  \u001b[38;5;66;03m#int + str\u001b[39;00m\n\u001b[0;32m     17\u001b[0m \u001b[38;5;28mprint\u001b[39m(b\u001b[38;5;241m*\u001b[39mc)  \u001b[38;5;66;03m#str x float\u001b[39;00m\n\u001b[0;32m     19\u001b[0m \u001b[38;5;66;03m#print(\"안녕하세요')\u001b[39;00m\n",
      "\u001b[1;31mTypeError\u001b[0m: unsupported operand type(s) for +: 'int' and 'str'"
     ]
    }
   ],
   "source": [
    "#문자열형\n",
    "#Error 발생\n",
    "\n",
    "a = 5  #정수형 int\n",
    "b = '5'  #문자열형 str\n",
    "c = 5.0  #실수형 float\n",
    "'''\n",
    "print(a+a)  #int + int\n",
    "print()\n",
    "print(b+b)  #str + str -> 숫자가 더해지는것이 아닌, 문자가 이어붙여짐\n",
    "print(a*b)  #int x str -> 숫자 5가 5번\n",
    "print()\n",
    "'''\n",
    "\n",
    "print(a+b)  #int + str -> 숫자 + 문자 불가함\n",
    "print(b*c)  #str x float -> 문자 * 실수 불가함\n",
    "\n",
    "print(\"안녕하세요')"
   ]
  },
  {
   "cell_type": "code",
   "execution_count": null,
   "metadata": {},
   "outputs": [],
   "source": [
    "#군집 자료형\n",
    "\n",
    "#종류 : 1) 리스트 list, 2) 튜플 tuple, 3) 세트 set, 4) 사전 dictionary\n",
    "#특징 : 여러 데이터를 모은 집합 형태 자료형, 데이터를 순차적으로 저장, 값을 변경할 수 없는 열거형 집합, 순서가 없고 중복이 허용되지 않음, 키와 값의 쌍으로 구성된 집합 "
   ]
  },
  {
   "cell_type": "code",
   "execution_count": 10,
   "metadata": {},
   "outputs": [
    {
     "name": "stdout",
     "output_type": "stream",
     "text": [
      "77\n"
     ]
    }
   ],
   "source": [
    "#자료형 변환\n",
    "\n",
    "#예시 1) str(10) -> 정수형을 문자열형으로 / 2) int('10') -> 문자열형을 정수형으로 / 3) int(12.5) -> 실수형을 정수형으로 / list('hello') -> 문자열형을 리스트형으로 / 등\n",
    "\n",
    "\n",
    "#input()으로 숫자 입력 받기(1)\n",
    "a = input('숫자를 입력하세요.')\n",
    "\n",
    "print(a+a)  # 77 출력됨 -> a의 형태는 문자열(str) 형태인 '7'로 나옴"
   ]
  },
  {
   "cell_type": "code",
   "execution_count": 11,
   "metadata": {},
   "outputs": [
    {
     "data": {
      "text/plain": [
       "'7'"
      ]
     },
     "execution_count": 11,
     "metadata": {},
     "output_type": "execute_result"
    }
   ],
   "source": [
    "a"
   ]
  },
  {
   "cell_type": "code",
   "execution_count": 12,
   "metadata": {},
   "outputs": [
    {
     "name": "stdout",
     "output_type": "stream",
     "text": [
      "14\n"
     ]
    }
   ],
   "source": [
    "#input()으로 숫자 입력 받기(2)\n",
    "a = int(input('숫자를 입력하세요.'))\n",
    "\n",
    "print(a+a)  # 14 출력됨 -> 정수형(int)으로 감쌌기 때문에, 정수형인 7로 나옴"
   ]
  },
  {
   "cell_type": "code",
   "execution_count": 13,
   "metadata": {},
   "outputs": [
    {
     "data": {
      "text/plain": [
       "7"
      ]
     },
     "execution_count": 13,
     "metadata": {},
     "output_type": "execute_result"
    }
   ],
   "source": [
    "a"
   ]
  },
  {
   "cell_type": "code",
   "execution_count": 17,
   "metadata": {},
   "outputs": [
    {
     "data": {
      "text/plain": [
       "range(0, 5)"
      ]
     },
     "execution_count": 17,
     "metadata": {},
     "output_type": "execute_result"
    }
   ],
   "source": [
    "#자료형 변환\n",
    "\n",
    "#실수 <-> 정수 (1)\n",
    "num = 5\n",
    "range(num)  #range 함수는 인자값이 정수형(int)이어야 함 -> 실행하면 Error 없음"
   ]
  },
  {
   "cell_type": "code",
   "execution_count": 18,
   "metadata": {},
   "outputs": [
    {
     "ename": "TypeError",
     "evalue": "'float' object cannot be interpreted as an integer",
     "output_type": "error",
     "traceback": [
      "\u001b[1;31m---------------------------------------------------------------------------\u001b[0m",
      "\u001b[1;31mTypeError\u001b[0m                                 Traceback (most recent call last)",
      "Cell \u001b[1;32mIn[18], line 3\u001b[0m\n\u001b[0;32m      1\u001b[0m \u001b[38;5;66;03m# 실수 <-> 정수 (2)\u001b[39;00m\n\u001b[0;32m      2\u001b[0m num \u001b[38;5;241m=\u001b[39m \u001b[38;5;241m5.0\u001b[39m\n\u001b[1;32m----> 3\u001b[0m \u001b[38;5;28;43mrange\u001b[39;49m\u001b[43m(\u001b[49m\u001b[43mnum\u001b[49m\u001b[43m)\u001b[49m  \u001b[38;5;66;03m#range 함수에 인자값이 실수형(float)이 들어가면 -> 실행하면 Error 발생\u001b[39;00m\n",
      "\u001b[1;31mTypeError\u001b[0m: 'float' object cannot be interpreted as an integer"
     ]
    }
   ],
   "source": [
    "#실수 <-> 정수 (2)\n",
    "num = 5.0\n",
    "range(num)  #range 함수에 인자값이 실수형(float)이 들어가면 -> 실행하면 Error 발생"
   ]
  },
  {
   "cell_type": "code",
   "execution_count": 19,
   "metadata": {},
   "outputs": [
    {
     "data": {
      "text/plain": [
       "range(0, 5)"
      ]
     },
     "execution_count": 19,
     "metadata": {},
     "output_type": "execute_result"
    }
   ],
   "source": [
    "#실수 <-> 정수 (3)\n",
    "num = 5.0\n",
    "range(int(num))  #range 함수에 인자값이 정수형(int)이 되기 위해서 다음과 같이 변경하고, 실행하면 Error 없음"
   ]
  },
  {
   "cell_type": "code",
   "execution_count": 20,
   "metadata": {},
   "outputs": [
    {
     "name": "stdout",
     "output_type": "stream",
     "text": [
      "<class 'str'>\n",
      "<class 'int'>\n",
      "<class 'float'>\n"
     ]
    }
   ],
   "source": [
    "#type() 함수로 자료형 확인\n",
    "\n",
    "a = input('숫자 하나 입력')  #문자열형\n",
    "b = int(a)  #정수형\n",
    "c = float(a)  #실수형\n",
    "\n",
    "print(type(a))\n",
    "print(type(b))\n",
    "print(type(c))"
   ]
  },
  {
   "cell_type": "code",
   "execution_count": 21,
   "metadata": {},
   "outputs": [
    {
     "ename": "ValueError",
     "evalue": "invalid literal for int() with base 10: 'aa'",
     "output_type": "error",
     "traceback": [
      "\u001b[1;31m---------------------------------------------------------------------------\u001b[0m",
      "\u001b[1;31mValueError\u001b[0m                                Traceback (most recent call last)",
      "Cell \u001b[1;32mIn[21], line 4\u001b[0m\n\u001b[0;32m      1\u001b[0m \u001b[38;5;66;03m#type() 함수로 자료형 확인\u001b[39;00m\n\u001b[0;32m      3\u001b[0m a \u001b[38;5;241m=\u001b[39m \u001b[38;5;28minput\u001b[39m(\u001b[38;5;124m'\u001b[39m\u001b[38;5;124m숫자 하나 입력\u001b[39m\u001b[38;5;124m'\u001b[39m)  \u001b[38;5;66;03m#문자열형\u001b[39;00m\n\u001b[1;32m----> 4\u001b[0m b \u001b[38;5;241m=\u001b[39m \u001b[38;5;28;43mint\u001b[39;49m\u001b[43m(\u001b[49m\u001b[43ma\u001b[49m\u001b[43m)\u001b[49m  \u001b[38;5;66;03m#정수형\u001b[39;00m\n\u001b[0;32m      5\u001b[0m c \u001b[38;5;241m=\u001b[39m \u001b[38;5;28mfloat\u001b[39m(a)  \u001b[38;5;66;03m#실수형\u001b[39;00m\n\u001b[0;32m      7\u001b[0m \u001b[38;5;28mprint\u001b[39m(\u001b[38;5;28mtype\u001b[39m(a))\n",
      "\u001b[1;31mValueError\u001b[0m: invalid literal for int() with base 10: 'aa'"
     ]
    }
   ],
   "source": [
    "#type() 함수로 자료형 확인\n",
    "\n",
    "a = input('숫자 하나 입력')  #문자열형\n",
    "b = int(a)  #정수형\n",
    "c = float(a)  #실수형\n",
    "\n",
    "print(type(a))\n",
    "print(type(b))\n",
    "print(type(c))"
   ]
  },
  {
   "cell_type": "code",
   "execution_count": null,
   "metadata": {},
   "outputs": [],
   "source": []
  }
 ],
 "metadata": {
  "kernelspec": {
   "display_name": "Python 3",
   "language": "python",
   "name": "python3"
  },
  "language_info": {
   "codemirror_mode": {
    "name": "ipython",
    "version": 3
   },
   "file_extension": ".py",
   "mimetype": "text/x-python",
   "name": "python",
   "nbconvert_exporter": "python",
   "pygments_lexer": "ipython3",
   "version": "3.12.4"
  }
 },
 "nbformat": 4,
 "nbformat_minor": 2
}
