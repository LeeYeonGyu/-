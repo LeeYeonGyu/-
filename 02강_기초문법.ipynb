{
 "cells": [
  {
   "cell_type": "markdown",
   "metadata": {},
   "source": [
    "#주석"
   ]
  },
  {
   "cell_type": "code",
   "execution_count": 15,
   "metadata": {},
   "outputs": [
    {
     "name": "stdout",
     "output_type": "stream",
     "text": [
      "안녕하세요.\n",
      "필요한 코드\n"
     ]
    }
   ],
   "source": [
    "#주석\n",
    "\n",
    "print('안녕하세요.') #인사코드\n",
    "\n",
    "#print('불필요한 코드')\n",
    "print('필요한 코드')"
   ]
  },
  {
   "cell_type": "code",
   "execution_count": 2,
   "metadata": {},
   "outputs": [
    {
     "name": "stdout",
     "output_type": "stream",
     "text": [
      "A\n",
      "B\n"
     ]
    }
   ],
   "source": [
    "print('A')\n",
    "''' \n",
    "여러줄의\n",
    "주석을\n",
    "처리하는\n",
    "방법입니다.\n",
    "'''\n",
    "print('B')  #작은따옴표 3개로 표시도 가능함"
   ]
  },
  {
   "cell_type": "markdown",
   "metadata": {},
   "source": [
    "#들여쓰기"
   ]
  },
  {
   "cell_type": "code",
   "execution_count": 4,
   "metadata": {},
   "outputs": [
    {
     "ename": "IndentationError",
     "evalue": "unexpected indent (3969408432.py, line 4)",
     "output_type": "error",
     "traceback": [
      "\u001b[1;36m  Cell \u001b[1;32mIn[4], line 4\u001b[1;36m\u001b[0m\n\u001b[1;33m    print('b')\u001b[0m\n\u001b[1;37m    ^\u001b[0m\n\u001b[1;31mIndentationError\u001b[0m\u001b[1;31m:\u001b[0m unexpected indent\n"
     ]
    }
   ],
   "source": [
    "#들여쓰기\n",
    "\n",
    "#들여쓰기를 어긋내면 Error 발생\n",
    "\n",
    "print('a')\n",
    " print('b')\n",
    "print('c')"
   ]
  },
  {
   "cell_type": "markdown",
   "metadata": {},
   "source": [
    "#변수사용"
   ]
  },
  {
   "cell_type": "code",
   "execution_count": 7,
   "metadata": {},
   "outputs": [
    {
     "name": "stdout",
     "output_type": "stream",
     "text": [
      "10\n",
      "a\n"
     ]
    },
    {
     "ename": "NameError",
     "evalue": "name 'b' is not defined",
     "output_type": "error",
     "traceback": [
      "\u001b[1;31m---------------------------------------------------------------------------\u001b[0m",
      "\u001b[1;31mNameError\u001b[0m                                 Traceback (most recent call last)",
      "Cell \u001b[1;32mIn[7], line 8\u001b[0m\n\u001b[0;32m      4\u001b[0m \u001b[38;5;28mprint\u001b[39m(a)  \u001b[38;5;66;03m#a라는 이름의 변수\u001b[39;00m\n\u001b[0;32m      6\u001b[0m \u001b[38;5;28mprint\u001b[39m(\u001b[38;5;124m'\u001b[39m\u001b[38;5;124ma\u001b[39m\u001b[38;5;124m'\u001b[39m)  \u001b[38;5;66;03m#값을 사용 시 따옴표를 사용하면 문자로 사용됨\u001b[39;00m\n\u001b[1;32m----> 8\u001b[0m \u001b[38;5;28mprint\u001b[39m(\u001b[43mb\u001b[49m)\n",
      "\u001b[1;31mNameError\u001b[0m: name 'b' is not defined"
     ]
    }
   ],
   "source": [
    "#변수사용_데이터를 담아두는 그릇(1)\n",
    "\n",
    "a = 10\n",
    "print(a)  #a라는 이름의 변수\n",
    "\n",
    "print('a')  #값을 사용 시 따옴표를 사용하면 문자로 사용됨\n",
    "\n",
    "print(b)  #Error b라는 이름을 찾지 못했음"
   ]
  },
  {
   "cell_type": "code",
   "execution_count": 9,
   "metadata": {},
   "outputs": [
    {
     "name": "stdout",
     "output_type": "stream",
     "text": [
      "10\n",
      "5\n",
      "15\n"
     ]
    }
   ],
   "source": [
    "#변수사용_데이터를 담아두는 그릇(2)\n",
    "\n",
    "a = 10\n",
    "b = 5\n",
    "print(a)  #a라는 이름의 변수\n",
    "print(b)\n",
    "\n",
    "print(a+b)  #변수끼리 연산을 해도 그 값이 적용이 되어 나타남"
   ]
  },
  {
   "cell_type": "code",
   "execution_count": 10,
   "metadata": {},
   "outputs": [
    {
     "name": "stdout",
     "output_type": "stream",
     "text": [
      "10\n",
      "5\n",
      "17\n"
     ]
    }
   ],
   "source": [
    "#변수사용_데이터를 담아두는 그릇(3)\n",
    "\n",
    "a = 10\n",
    "b = 5\n",
    "print(a)  #a라는 이름의 변수\n",
    "print(b)\n",
    "\n",
    "b = 7  #b값이 현 시점부터 변경되었음\n",
    "\n",
    "print(a+b)  #변수끼리 연산을 해도 그 값이 적용이 되어 나타남"
   ]
  },
  {
   "cell_type": "code",
   "execution_count": 12,
   "metadata": {},
   "outputs": [],
   "source": [
    "#변수특징\n",
    "\n",
    "#이름이 필요함, 이름을 지어준 상태에서 값을 넣기 / 예시) a = 10\n",
    "#변수에 들어있는 값은 언제든지 변경 가능\n",
    "#변수끼리 연산도 가능함\n",
    "\n",
    "###\n",
    "\n",
    "#변수이름설정 규칙\n",
    "\n",
    "#첫글자 : '영어 or 언더바'만 사용가능\n",
    "#대소문자 구분 / 예시) A=0, a=0 는 서로 다른 변수로 사용됨\n",
    "#파이썬 내 예약어는 변수이름으로 사용 불가함 / 예시) print 등"
   ]
  },
  {
   "cell_type": "markdown",
   "metadata": {},
   "source": [
    "#함수"
   ]
  },
  {
   "cell_type": "code",
   "execution_count": 13,
   "metadata": {},
   "outputs": [
    {
     "name": "stdout",
     "output_type": "stream",
     "text": [
      "hi hello\n"
     ]
    }
   ],
   "source": [
    "#함수\n",
    "\n",
    "#특정한 기능을 수행해주는 명령 - 함수를 직접 만들어서 사용 가능, 기존 파이썬 내장함수도 있음\n",
    "\n",
    "###\n",
    "\n",
    "#함수 사용 시 필요사항\n",
    "\n",
    "#함수 이름(인자 값) --> 리턴 값\n",
    "#함수 이름(인자 값1, 인자 값2) --> 리턴 값 / '인자 값, 리턴 값' 있을 수도 있고 없을 수도 있음\n",
    "print('hi', 'hello') #print 함수 = 리턴 값은 없음"
   ]
  },
  {
   "cell_type": "markdown",
   "metadata": {},
   "source": [
    "#표준 입출력"
   ]
  },
  {
   "cell_type": "code",
   "execution_count": 16,
   "metadata": {},
   "outputs": [
    {
     "data": {
      "text/plain": [
       "'홍길동'"
      ]
     },
     "execution_count": 16,
     "metadata": {},
     "output_type": "execute_result"
    }
   ],
   "source": [
    "#표준 입출력 : 파이썬 내장 함수 중 값을 출력하고 입력하는 역할을 가지고 있는 함수\n",
    "\n",
    "#출력 : print('hi')\n",
    "\n",
    "#입력 : input('인자 값')\n",
    "input('이름을 입력 해주세요.')\n",
    "\n",
    "#input 은 리턴값을 가지고 있음 -> 내가 넣은 값이 리턴값임"
   ]
  },
  {
   "cell_type": "code",
   "execution_count": 17,
   "metadata": {},
   "outputs": [],
   "source": [
    "#input 제대로 활용방법 -> 변수를 만들어주기 -> name 이라는 변수에 '홍길동'을 담아둠 -> name 호출 시 '홍길동' 출력됨\n",
    "\n",
    "name = input('이름을 입력 해주세요.')"
   ]
  },
  {
   "cell_type": "code",
   "execution_count": 18,
   "metadata": {},
   "outputs": [
    {
     "data": {
      "text/plain": [
       "'홍길동'"
      ]
     },
     "execution_count": 18,
     "metadata": {},
     "output_type": "execute_result"
    }
   ],
   "source": [
    "name"
   ]
  },
  {
   "cell_type": "code",
   "execution_count": 21,
   "metadata": {},
   "outputs": [
    {
     "name": "stdout",
     "output_type": "stream",
     "text": [
      "안녕하세요, 홍길동 님.\n"
     ]
    }
   ],
   "source": [
    "print('안녕하세요,', name, '님.')"
   ]
  },
  {
   "cell_type": "code",
   "execution_count": null,
   "metadata": {},
   "outputs": [],
   "source": []
  }
 ],
 "metadata": {
  "kernelspec": {
   "display_name": "Python 3",
   "language": "python",
   "name": "python3"
  },
  "language_info": {
   "codemirror_mode": {
    "name": "ipython",
    "version": 3
   },
   "file_extension": ".py",
   "mimetype": "text/x-python",
   "name": "python",
   "nbconvert_exporter": "python",
   "pygments_lexer": "ipython3",
   "version": "3.12.4"
  }
 },
 "nbformat": 4,
 "nbformat_minor": 2
}
