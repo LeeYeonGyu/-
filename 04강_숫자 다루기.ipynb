{
 "cells": [
  {
   "cell_type": "code",
   "execution_count": 1,
   "metadata": {},
   "outputs": [
    {
     "name": "stdout",
     "output_type": "stream",
     "text": [
      "3 6 9 18\n"
     ]
    }
   ],
   "source": [
    "#한줄에 하나씩 숫자 입력받기 (1)\n",
    "\n",
    "a = int(input('a 입력:'))\n",
    "b = int(input('b 입력:'))\n",
    "c = int(input('c 입력:'))\n",
    "\n",
    "print(a,b,c,a+b+c)"
   ]
  },
  {
   "cell_type": "code",
   "execution_count": 2,
   "metadata": {},
   "outputs": [
    {
     "name": "stdout",
     "output_type": "stream",
     "text": [
      "3 6 9 369\n"
     ]
    }
   ],
   "source": [
    "#한줄에 하나씩 숫자 입력받기 (2)\n",
    "\n",
    "a = input('a 입력:')\n",
    "b = input('b 입력:')\n",
    "c = input('c 입력:')\n",
    "\n",
    "print(a,b,c,a+b+c)  #a+b+c 값이 문자열(str)형태로 처리되어 369로 이어져서 출력됨"
   ]
  },
  {
   "cell_type": "code",
   "execution_count": 7,
   "metadata": {},
   "outputs": [
    {
     "name": "stdout",
     "output_type": "stream",
     "text": [
      "3 6 9 18\n"
     ]
    }
   ],
   "source": [
    "#한줄에 여러 개의 숫자 입력받기 (1)\n",
    "\n",
    "a,b,c = map(int,input('a,b,c값 입력').split())\n",
    "\n",
    "print(a,b,c,a+b+c)\n"
   ]
  },
  {
   "cell_type": "code",
   "execution_count": 9,
   "metadata": {},
   "outputs": [
    {
     "name": "stdout",
     "output_type": "stream",
     "text": [
      "2020.02.29 2020 02 29\n"
     ]
    },
    {
     "data": {
      "text/plain": [
       "(str, str, str, str)"
      ]
     },
     "execution_count": 9,
     "metadata": {},
     "output_type": "execute_result"
    }
   ],
   "source": [
    "#한줄에 여러 개의 숫자 입력받기 (1)\n",
    "\n",
    "#split 설명\n",
    "\n",
    "#문자1.split(문자2) : 문자2 를 기준으로 문자1 을 자르는 메서드\n",
    "\n",
    "text = input(\"날짜입력 yyyy.mm.dd\")\n",
    "y, m, d = text.split('.')  #입력된 text를 . 을 기준으로 자르고, y m d 에 차례로 넣어라\n",
    "\n",
    "print(text, y, m, d)\n",
    "\n",
    "type(text), type(y), type(m), type(d)"
   ]
  },
  {
   "cell_type": "code",
   "execution_count": 10,
   "metadata": {},
   "outputs": [
    {
     "name": "stdout",
     "output_type": "stream",
     "text": [
      "1 2 3 6\n"
     ]
    }
   ],
   "source": [
    "#한줄에 여러 개의 숫자 입력받기 (1)\n",
    "\n",
    "#map 설명\n",
    "\n",
    "#map(함수, 집합 형태) \n",
    "    \n",
    "#'집합 형태' 종류 : 1) 리스트 list, 2) 튜플 tuple, 3) 세트 set, 4) 사전 dictionary 등이 들어가야함 _ 여러개의 데이터가 모여있는 형태\n",
    "#map 하는 일 : 집합 형태의 데이터를 하나씩 다 꺼내서, '함수'를 적용해줌\n",
    "\n",
    "a, b, c = map(int,['1', '2', '3'])  #['숫자', '숫자'] -> '숫자'가 문자로 들어간 대괄호로 표시한 부분은 list 형태의 집합임\n",
    "print(a,b,c, a+b+c)\n",
    "#대괄호 내에 있는 '1', '2', '3'을 하나씩 모두 정수형(int)을 적용하는 것이 map -> 이후 a, b, c에 넣어줌"
   ]
  },
  {
   "cell_type": "code",
   "execution_count": 12,
   "metadata": {},
   "outputs": [
    {
     "name": "stdout",
     "output_type": "stream",
     "text": [
      "3 6 9 18\n"
     ]
    }
   ],
   "source": [
    "#한줄에 여러 개의 숫자 입력받기 (1)\n",
    "\n",
    "#split, map 풀어서 하나씩 적용해보기\n",
    "#a,b,c = map(int,input('a,b,c값 입력').split())   -> 최종 이렇게 한줄로 표현하기 위한 아래 과정들임\n",
    "\n",
    "text = input('a b c 값 입력')  #a, b, c 값 입력 받기 -> 입력 받은 값은 'text'로 설정 -> 문자열(str)형태로 입력 받아짐 -> '3 6 9'\n",
    "text = text.split()  #text의 값을 공백 기준으로 자르고, 다시 'text'로 설정 -> ['3', '6', '9']\n",
    "a, b, c = map(int, text)  #text값을 하나씩 정수형(int)으로 바꾸고, a b c 변수에 차례로 넣기\n",
    "\n",
    "print(a, b, c, a+b+c)"
   ]
  },
  {
   "cell_type": "code",
   "execution_count": 13,
   "metadata": {},
   "outputs": [],
   "source": [
    "###"
   ]
  },
  {
   "cell_type": "code",
   "execution_count": 14,
   "metadata": {},
   "outputs": [
    {
     "name": "stdout",
     "output_type": "stream",
     "text": [
      "3 5 8\n",
      "3과 5의 합은 8이다.\n"
     ]
    }
   ],
   "source": [
    "#숫자 출력하기\n",
    "\n",
    "x = 3\n",
    "y = 5\n",
    "print(x, y, x+y)\n",
    "print('3과 5의 합은 8이다.')  #x와 y에 자동으로 숫자가 나오게 하려고 함, 이렇게 출력 희망"
   ]
  },
  {
   "cell_type": "code",
   "execution_count": 19,
   "metadata": {},
   "outputs": [
    {
     "name": "stdout",
     "output_type": "stream",
     "text": [
      "3 과 5 의 합은 8 이다.\n",
      "3과 5의 합은 8이다.\n"
     ]
    }
   ],
   "source": [
    "#숫자 출력하기\n",
    "#숫자와 문자 함께 출력하기 (1), 콤마 & 형변환\n",
    "\n",
    "x = 3\n",
    "y = 5\n",
    "\n",
    "print(x, '과', y, '의 합은', x+y, '이다.')  #띄어쓰기 차이남, 콤마 사용 시 자동으로 띄어짐\n",
    "print('3과 5의 합은 8이다.')  #x와 y에 자동으로 숫자가 나오게 하려고 함, 이렇게 출력 희망\n",
    "\n",
    "print(x + '과' + y, '의 합은', x+y, '이다.')  #띄어쓰기 자연스럽게 문자와 문자를 더하기함 -> 공백 사라짐"
   ]
  },
  {
   "cell_type": "code",
   "execution_count": null,
   "metadata": {},
   "outputs": [],
   "source": [
    "15:00"
   ]
  }
 ],
 "metadata": {
  "kernelspec": {
   "display_name": "Python 3",
   "language": "python",
   "name": "python3"
  },
  "language_info": {
   "codemirror_mode": {
    "name": "ipython",
    "version": 3
   },
   "file_extension": ".py",
   "mimetype": "text/x-python",
   "name": "python",
   "nbconvert_exporter": "python",
   "pygments_lexer": "ipython3",
   "version": "3.12.4"
  }
 },
 "nbformat": 4,
 "nbformat_minor": 2
}
