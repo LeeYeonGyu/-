{
 "cells": [
  {
   "cell_type": "markdown",
   "metadata": {},
   "source": [
    "https://www.youtube.com/watch?v=UMfCZMuZoRk&list=PLz2iXe7EqJOOTNTK27a4-WsgZU5NVfguh&index=1"
   ]
  },
  {
   "cell_type": "markdown",
   "metadata": {},
   "source": [
    "소놀코딩 / 파이썬 기초강의 유튜브(1~30강)"
   ]
  }
 ],
 "metadata": {
  "language_info": {
   "name": "python"
  }
 },
 "nbformat": 4,
 "nbformat_minor": 2
}
